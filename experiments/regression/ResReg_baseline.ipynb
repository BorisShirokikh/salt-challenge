{
 "cells": [
  {
   "cell_type": "markdown",
   "metadata": {},
   "source": [
    "misc imports"
   ]
  },
  {
   "cell_type": "code",
   "execution_count": 1,
   "metadata": {},
   "outputs": [],
   "source": [
    "import warnings\n",
    "warnings.filterwarnings('ignore')"
   ]
  },
  {
   "cell_type": "code",
   "execution_count": 2,
   "metadata": {},
   "outputs": [],
   "source": [
    "import os\n",
    "from functools import partial\n",
    "\n",
    "import numpy as np\n",
    "import pandas as pd\n",
    "from tqdm import tqdm\n",
    "\n",
    "import matplotlib.pyplot as plt\n",
    "%matplotlib inline"
   ]
  },
  {
   "cell_type": "markdown",
   "metadata": {},
   "source": [
    "# Config"
   ]
  },
  {
   "cell_type": "code",
   "execution_count": 3,
   "metadata": {},
   "outputs": [],
   "source": [
    "import torch\n",
    "import torch.nn as nn\n",
    "\n",
    "from saltsegm.utils import ratio2groups, dump_json\n",
    "from saltsegm.metrics import inverse_l1\n",
    "from saltsegm.dataset import Dataset, filter_notarget_ids\n",
    "from saltsegm.cross_validation import get_cv_111\n",
    "\n",
    "# Model selection:\n",
    "from saltsegm.torch_models.resnet_regression import get_ResReg"
   ]
  },
  {
   "cell_type": "code",
   "execution_count": 4,
   "metadata": {},
   "outputs": [],
   "source": [
    "DATA_PATH = '/nmnt/x04-hdd/boris_temp/salt_prep/train/'\n",
    "EXP_PATH = '/nmnt/x04-hdd/boris_temp/experiments/salt_segm/regression/ResReg_baseline/'\n",
    "\n",
    "task_type = 'other'\n",
    "\n",
    "modalities = ['image-128']\n",
    "features = None\n",
    "target = 'target_ratio'\n",
    "\n",
    "ds = Dataset(data_path = DATA_PATH, modalities=modalities, features=features, target=target)\n",
    "ids = ds.ids\n",
    "\n",
    "n_channels = ds.n_channels\n",
    "n_classes = 1\n",
    "\n",
    "# ================================================================================\n",
    "\n",
    "n_splits = 5\n",
    "val_size = 100\n",
    "\n",
    "batch_size = 32\n",
    "epochs = 100\n",
    "steps_per_epoch = 100\n",
    "\n",
    "lr_init = 1e-3\n",
    "patience = 5\n",
    "lr_factor = 0.2\n",
    "\n",
    "optim = partial(torch.optim.Adam, lr=lr_init)\n",
    "\n",
    "lr_scheduler = partial(torch.optim.lr_scheduler.ReduceLROnPlateau,\n",
    "                       factor=lr_factor, patience=patience)\n",
    "\n",
    "n_filters = 16  # hardcoded for a while\n",
    "\n",
    "# ================================================================================\n",
    "\n",
    "random_state = 0xBadCafe\n",
    "\n",
    "split_type = 'tvt'\n",
    "\n",
    "ratio = ds.metadata['target_ratio'].values\n",
    "groups = ratio2groups(ratio)\n",
    "\n",
    "ids = filter_notarget_ids(ids=ids, df=ds.metadata)\n",
    "groups = filter_notarget_ids(ids=groups, df=ds.metadata)\n",
    "\n",
    "n_vals_to_carry = 5\n",
    "cv_splits = get_cv_111(ids=ids, n_splits=n_splits, val_size=val_size,\n",
    "                       groups=groups, random_state=random_state)[:n_vals_to_carry]\n",
    "\n",
    "# ================================================================================\n",
    "\n",
    "\n",
    "load_x = ds.load_x\n",
    "load_y = ds.load_y\n",
    "\n",
    "metric_fn = inverse_l1\n",
    "metrics_dict = {'inverse_l1': inverse_l1}\n",
    "\n",
    "loss_fn = nn.MSELoss(size_average=True)"
   ]
  },
  {
   "cell_type": "markdown",
   "metadata": {},
   "source": [
    "## Build experiment"
   ]
  },
  {
   "cell_type": "code",
   "execution_count": 5,
   "metadata": {},
   "outputs": [],
   "source": [
    "from saltsegm.experiment import generate_experiment\n",
    "\n",
    "generate_experiment(exp_path=EXP_PATH, cv_splits=cv_splits, dataset=ds,\n",
    "                    split_type=split_type, task_type=task_type)"
   ]
  },
  {
   "cell_type": "code",
   "execution_count": 6,
   "metadata": {},
   "outputs": [
    {
     "name": "stderr",
     "output_type": "stream",
     "text": [
      "100%|██████████| 5/5 [01:14<00:00, 15.01s/it]\n"
     ]
    }
   ],
   "source": [
    "from saltsegm.experiment import load_val_data, make_predictions, calculate_metrics\n",
    "from saltsegm.batch_iter import BatchIter\n",
    "from saltsegm.torch_models.model import TorchModel, fit_model\n",
    "\n",
    "from saltsegm.utils import save\n",
    "\n",
    "\n",
    "for n_val in tqdm(range(n_vals_to_carry)):\n",
    "    VAL_PATH = os.path.join(EXP_PATH, f'experiment_{n_val}')\n",
    "    \n",
    "    x_val, y_val = load_val_data(exp_path=EXP_PATH, n_val=n_val)\n",
    "    val_data = (x_val, y_val)\n",
    "\n",
    "    train_ids = cv_splits[n_val]['train_ids']\n",
    "\n",
    "    batch_iter = BatchIter(train_ids=train_ids, load_x=load_x, load_y=load_y,\n",
    "                           batch_size=batch_size, verbose_loading=False)\n",
    "        \n",
    "    model = get_ResReg(n_channels=n_channels, n_filters=n_filters)\n",
    "    \n",
    "    torch_model = TorchModel(model=model, loss_fn=loss_fn, metric_fn=metric_fn,\n",
    "                             optim=optim, lr_scheduler=lr_scheduler, task_type=task_type)\n",
    "    \n",
    "    resources = {\n",
    "        'torch_model': torch_model,\n",
    "        'batch_iter': batch_iter,\n",
    "        'epochs': epochs,\n",
    "        'steps_per_epoch': steps_per_epoch,\n",
    "        'saving_model_mode': 'max',\n",
    "        'metrics_dict': metrics_dict\n",
    "    }\n",
    "    \n",
    "    save(obj=resources, path=VAL_PATH, filename='resources', gz=9)"
   ]
  },
  {
   "cell_type": "markdown",
   "metadata": {},
   "source": [
    "## Results"
   ]
  },
  {
   "cell_type": "code",
   "execution_count": 5,
   "metadata": {},
   "outputs": [],
   "source": [
    "from saltsegm.experiment import get_experiment_result\n",
    "from saltsegm.visualization import plot_metrics"
   ]
  },
  {
   "cell_type": "code",
   "execution_count": null,
   "metadata": {},
   "outputs": [],
   "source": [
    "for metric_name in metrics_dict.keys():\n",
    "    print(\n",
    "        metric_name, \n",
    "        get_experiment_result(exp_path=EXP_PATH, n_splits=n_splits, metric_name=metric_name)\n",
    "    )"
   ]
  },
  {
   "cell_type": "code",
   "execution_count": null,
   "metadata": {},
   "outputs": [],
   "source": [
    "for i in range(n_vals_to_carry):\n",
    "    print(f'===  experiment {i}  ===')\n",
    "    plot_metrics(EXP_PATH, n_val=i)"
   ]
  },
  {
   "cell_type": "markdown",
   "metadata": {},
   "source": [
    "<hr/>"
   ]
  }
 ],
 "metadata": {
  "kernelspec": {
   "display_name": "Python 3",
   "language": "python",
   "name": "python3"
  },
  "language_info": {
   "codemirror_mode": {
    "name": "ipython",
    "version": 3
   },
   "file_extension": ".py",
   "mimetype": "text/x-python",
   "name": "python",
   "nbconvert_exporter": "python",
   "pygments_lexer": "ipython3",
   "version": "3.6.6"
  }
 },
 "nbformat": 4,
 "nbformat_minor": 2
}

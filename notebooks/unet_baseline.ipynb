{
 "cells": [
  {
   "cell_type": "markdown",
   "metadata": {},
   "source": [
    "misc imports"
   ]
  },
  {
   "cell_type": "code",
   "execution_count": null,
   "metadata": {
    "collapsed": true
   },
   "outputs": [],
   "source": [
    "import warnings\n",
    "warnings.filterwarnings('ignore')"
   ]
  },
  {
   "cell_type": "code",
   "execution_count": null,
   "metadata": {
    "collapsed": true
   },
   "outputs": [],
   "source": [
    "import os\n",
    "from functools import partial\n",
    "\n",
    "import numpy as np\n",
    "import pandas as pd\n",
    "from tqdm import tqdm\n",
    "\n",
    "import matplotlib.pyplot as plt\n",
    "%matplotlib inline"
   ]
  },
  {
   "cell_type": "markdown",
   "metadata": {},
   "source": [
    "# Config"
   ]
  },
  {
   "cell_type": "code",
   "execution_count": null,
   "metadata": {
    "collapsed": true
   },
   "outputs": [],
   "source": [
    "import torch\n",
    "import torch.nn as nn\n",
    "\n",
    "from saltsegm.utils import ratio2groups, dump_json\n",
    "from saltsegm.metrics import dice_score, average_iou\n",
    "from saltsegm.dataset import Dataset\n",
    "from saltsegm.cross_validation import get_cv_111\n",
    "\n",
    "# Model selection:\n",
    "from saltsegm.torch_models.unet import get_UNetRes"
   ]
  },
  {
   "cell_type": "code",
   "execution_count": null,
   "metadata": {
    "collapsed": true
   },
   "outputs": [],
   "source": [
    "DATA_PATH = '/cobrain/groups/ml_group/data/dustpelt/salt_prep/train/'\n",
    "EXP_PATH = '/cobrain/groups/ml_group/experiments/dustpelt/salt_segm/unet_baseline/'\n",
    "\n",
    "modalities = ['image-128']\n",
    "features = None\n",
    "target = 'target-128'\n",
    "\n",
    "ds = Dataset(data_path = DATA_PATH, modalities=modalities, features=features, target=target)\n",
    "\n",
    "n_channels = ds.n_channels\n",
    "n_classes = 1\n",
    "\n",
    "# ================================================================================\n",
    "\n",
    "n_splits = 5\n",
    "val_size = 100\n",
    "\n",
    "batch_size = 32\n",
    "epochs = 50\n",
    "steps_per_epoch = 100\n",
    "\n",
    "lr_init = 1e-2\n",
    "patience = 5\n",
    "lr_factor = 0.5\n",
    "\n",
    "dropout_rate = 0.10\n",
    "noise_augm_ratio = 0.05\n",
    "\n",
    "optim = partial(torch.optim.Adam, lr=lr_init)\n",
    "\n",
    "lr_scheduler = partial(torch.optim.lr_scheduler.ReduceLROnPlateau,\n",
    "                       factor=lr_factor, patience=patience)\n",
    "\n",
    "# ================================================================================\n",
    "\n",
    "random_state = 42\n",
    "\n",
    "ratio = ds.metadata['target_ratio'].values\n",
    "groups = ratio2groups(ratio)\n",
    "\n",
    "cv_splits = get_cv_111(ds.ids, n_splits=n_splits, val_size=val_size,\n",
    "                       groups=groups, random_state=random_state)\n",
    "\n",
    "# ================================================================================\n",
    "\n",
    "\n",
    "load_x = ds.load_x\n",
    "load_y = ds.load_y\n",
    "\n",
    "metric_fn = average_iou\n",
    "metrics_dict = {'dice': (dice_score, False),\n",
    "                'iou': (average_iou, False),\n",
    "                'scaled_dice': (dice_score, True),\n",
    "                'scaled_iou': (average_iou, True)}\n",
    "\n",
    "loss_fn = nn.BCEWithLogitsLoss()"
   ]
  },
  {
   "cell_type": "markdown",
   "metadata": {},
   "source": [
    "## Build experiment"
   ]
  },
  {
   "cell_type": "code",
   "execution_count": null,
   "metadata": {
    "collapsed": true
   },
   "outputs": [],
   "source": [
    "from saltsegm.experiment import generate_experiment\n",
    "\n",
    "generate_experiment(exp_path=EXP_PATH, cv_splits=cv_splits, dataset=ds)"
   ]
  },
  {
   "cell_type": "markdown",
   "metadata": {},
   "source": [
    "# Carry on experiment"
   ]
  },
  {
   "cell_type": "code",
   "execution_count": null,
   "metadata": {
    "collapsed": true
   },
   "outputs": [],
   "source": [
    "from saltsegm.experiment import load_val_data, make_predictions, calculate_metrics\n",
    "from saltsegm.batch_iter import BatchIter\n",
    "from saltsegm.torch_models.model import TorchModel, fit_model"
   ]
  },
  {
   "cell_type": "code",
   "execution_count": null,
   "metadata": {
    "collapsed": true
   },
   "outputs": [],
   "source": [
    "for n_val in range(n_splits):\n",
    "    VAL_PATH = os.path.join(EXP_PATH, f'experiment_{n_val}')\n",
    "    \n",
    "    \n",
    "    # BATCH ITERATOR:\n",
    "    x_val, y_val = load_val_data(exp_path=EXP_PATH, n_val=n_val)\n",
    "    val_data = (x_val, y_val)\n",
    "\n",
    "    train_ids = cv_splits[n_val]['train_ids']\n",
    "\n",
    "    batch_iter = BatchIter(train_ids=train_ids, load_x=load_x, load_y=load_y,\n",
    "                           batch_size=batch_size, verbose_loading=True)\n",
    "    \n",
    "    \n",
    "    # MODEL CREATION:\n",
    "    model = get_UNetRes(n_channels=n_channels, n_classes=n_classes,\n",
    "                        dropout_rate=dropout_rate)\n",
    "    torch_model = TorchModel(model=model, loss_fn=loss_fn, metric_fn=metric_fn,\n",
    "                             optim=optim, lr_scheduler=lr_scheduler)\n",
    "    \n",
    "    \n",
    "    # LEARNING PROCESS:\n",
    "    fit_model(\n",
    "        torch_model=torch_model, generator=batch_iter.flow(), val_path=VAL_PATH, val_data=val_data,\n",
    "        epochs=epochs, steps_per_epoch=steps_per_epoch, verbose=True,\n",
    "        saving_model_mode='max'\n",
    "    )\n",
    "\n",
    "    \n",
    "    # MAKING PREDICTIONS AND CALCULATING METRICS:\n",
    "    make_predictions(exp_path=EXP_PATH, n_val=n_val)\n",
    "\n",
    "    calculate_metrics(exp_path=EXP_PATH, n_val=n_val, metrics_dict=metrics_dict)"
   ]
  },
  {
   "cell_type": "markdown",
   "metadata": {},
   "source": [
    "## Results"
   ]
  },
  {
   "cell_type": "code",
   "execution_count": null,
   "metadata": {
    "collapsed": true
   },
   "outputs": [],
   "source": [
    "from saltsegm.experiment import get_experiment_result"
   ]
  },
  {
   "cell_type": "code",
   "execution_count": null,
   "metadata": {
    "collapsed": true
   },
   "outputs": [],
   "source": [
    "for metric_name in metrics_dict.keys():\n",
    "    print(\n",
    "        metric_name, \n",
    "        get_experiment_result(exp_path=EXP_PATH, n_splits=n_splits, metric_name=metric_name)\n",
    "    )"
   ]
  },
  {
   "cell_type": "markdown",
   "metadata": {},
   "source": [
    "<hr/>"
   ]
  }
 ],
 "metadata": {
  "kernelspec": {
   "display_name": "Python 3",
   "language": "python",
   "name": "python3"
  },
  "language_info": {
   "codemirror_mode": {
    "name": "ipython",
    "version": 3
   },
   "file_extension": ".py",
   "mimetype": "text/x-python",
   "name": "python",
   "nbconvert_exporter": "python",
   "pygments_lexer": "ipython3",
   "version": "3.6.3"
  }
 },
 "nbformat": 4,
 "nbformat_minor": 2
}

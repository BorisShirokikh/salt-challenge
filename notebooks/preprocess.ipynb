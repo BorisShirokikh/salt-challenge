{
 "cells": [
  {
   "cell_type": "markdown",
   "metadata": {},
   "source": [
    "# Base preprocessing of data"
   ]
  },
  {
   "cell_type": "markdown",
   "metadata": {},
   "source": [
    "Ignore warnings"
   ]
  },
  {
   "cell_type": "code",
   "execution_count": 1,
   "metadata": {
    "collapsed": true
   },
   "outputs": [],
   "source": [
    "import warnings\n",
    "warnings.filterwarnings('ignore')"
   ]
  },
  {
   "cell_type": "markdown",
   "metadata": {},
   "source": [
    "### Imports"
   ]
  },
  {
   "cell_type": "code",
   "execution_count": 2,
   "metadata": {
    "collapsed": true
   },
   "outputs": [],
   "source": [
    "import os\n",
    "\n",
    "import numpy as np\n",
    "import pandas as pd\n",
    "import matplotlib.pyplot as plt\n",
    "from tqdm import tqdm\n",
    "\n",
    "%matplotlib inline"
   ]
  },
  {
   "cell_type": "markdown",
   "metadata": {},
   "source": [
    "### Paths:\n",
    "* to raw data, that should contain:\n",
    "  * `./depths.csv`\n",
    "  * `./sample_submission.csv`\n",
    "  * `./test/` -> with all test images\n",
    "  * `./train.csv`\n",
    "  * `./train/` -> with all train images\n",
    "* to future preprocess data"
   ]
  },
  {
   "cell_type": "code",
   "execution_count": 3,
   "metadata": {
    "collapsed": true
   },
   "outputs": [],
   "source": [
    "RAW_DATA_PATH = '/cobrain/groups/ml_group/data/dustpelt/salt_raw/'\n",
    "PREP_DATA_PATH = '/cobrain/groups/ml_group/data/dustpelt/salt_prep/'"
   ]
  },
  {
   "cell_type": "code",
   "execution_count": 4,
   "metadata": {
    "collapsed": true
   },
   "outputs": [],
   "source": [
    "prep_train_path = os.path.join(PREP_DATA_PATH, 'train')\n",
    "prep_test_path = os.path.join(PREP_DATA_PATH, 'test')\n",
    "\n",
    "if not os.path.isdir(prep_train_path):\n",
    "    os.mkdir(prep_train_path)\n",
    "    \n",
    "if not os.path.isdir(prep_test_path):\n",
    "    os.mkdir(prep_test_path)"
   ]
  },
  {
   "cell_type": "markdown",
   "metadata": {},
   "source": [
    "CSV example of salt depths"
   ]
  },
  {
   "cell_type": "code",
   "execution_count": 5,
   "metadata": {
    "collapsed": false
   },
   "outputs": [
    {
     "data": {
      "text/html": [
       "<div>\n",
       "<style>\n",
       "    .dataframe thead tr:only-child th {\n",
       "        text-align: right;\n",
       "    }\n",
       "\n",
       "    .dataframe thead th {\n",
       "        text-align: left;\n",
       "    }\n",
       "\n",
       "    .dataframe tbody tr th {\n",
       "        vertical-align: top;\n",
       "    }\n",
       "</style>\n",
       "<table border=\"1\" class=\"dataframe\">\n",
       "  <thead>\n",
       "    <tr style=\"text-align: right;\">\n",
       "      <th></th>\n",
       "      <th>id</th>\n",
       "      <th>z</th>\n",
       "    </tr>\n",
       "  </thead>\n",
       "  <tbody>\n",
       "    <tr>\n",
       "      <th>0</th>\n",
       "      <td>4ac19fb269</td>\n",
       "      <td>306</td>\n",
       "    </tr>\n",
       "    <tr>\n",
       "      <th>1</th>\n",
       "      <td>1825fadf99</td>\n",
       "      <td>157</td>\n",
       "    </tr>\n",
       "    <tr>\n",
       "      <th>2</th>\n",
       "      <td>f59821d067</td>\n",
       "      <td>305</td>\n",
       "    </tr>\n",
       "    <tr>\n",
       "      <th>3</th>\n",
       "      <td>5b435fad9d</td>\n",
       "      <td>503</td>\n",
       "    </tr>\n",
       "    <tr>\n",
       "      <th>4</th>\n",
       "      <td>e340e7bfca</td>\n",
       "      <td>783</td>\n",
       "    </tr>\n",
       "  </tbody>\n",
       "</table>\n",
       "</div>"
      ],
      "text/plain": [
       "           id    z\n",
       "0  4ac19fb269  306\n",
       "1  1825fadf99  157\n",
       "2  f59821d067  305\n",
       "3  5b435fad9d  503\n",
       "4  e340e7bfca  783"
      ]
     },
     "execution_count": 5,
     "metadata": {},
     "output_type": "execute_result"
    }
   ],
   "source": [
    "depths = pd.read_csv(os.path.join(RAW_DATA_PATH, 'depths.csv'))\n",
    "depths.head()"
   ]
  },
  {
   "cell_type": "markdown",
   "metadata": {},
   "source": [
    "CSV example of train ids and rle masks"
   ]
  },
  {
   "cell_type": "code",
   "execution_count": 6,
   "metadata": {
    "collapsed": false
   },
   "outputs": [
    {
     "data": {
      "text/html": [
       "<div>\n",
       "<style>\n",
       "    .dataframe thead tr:only-child th {\n",
       "        text-align: right;\n",
       "    }\n",
       "\n",
       "    .dataframe thead th {\n",
       "        text-align: left;\n",
       "    }\n",
       "\n",
       "    .dataframe tbody tr th {\n",
       "        vertical-align: top;\n",
       "    }\n",
       "</style>\n",
       "<table border=\"1\" class=\"dataframe\">\n",
       "  <thead>\n",
       "    <tr style=\"text-align: right;\">\n",
       "      <th></th>\n",
       "      <th>id</th>\n",
       "      <th>rle_mask</th>\n",
       "    </tr>\n",
       "  </thead>\n",
       "  <tbody>\n",
       "    <tr>\n",
       "      <th>0</th>\n",
       "      <td>575d24d81d</td>\n",
       "      <td>NaN</td>\n",
       "    </tr>\n",
       "    <tr>\n",
       "      <th>1</th>\n",
       "      <td>a266a2a9df</td>\n",
       "      <td>5051 5151</td>\n",
       "    </tr>\n",
       "    <tr>\n",
       "      <th>2</th>\n",
       "      <td>75efad62c1</td>\n",
       "      <td>9 93 109 94 210 94 310 95 411 95 511 96 612 96...</td>\n",
       "    </tr>\n",
       "    <tr>\n",
       "      <th>3</th>\n",
       "      <td>34e51dba6a</td>\n",
       "      <td>48 54 149 54 251 53 353 52 455 51 557 50 659 4...</td>\n",
       "    </tr>\n",
       "    <tr>\n",
       "      <th>4</th>\n",
       "      <td>4875705fb0</td>\n",
       "      <td>1111 1 1212 1 1313 1 1414 1 1514 2 1615 2 1716...</td>\n",
       "    </tr>\n",
       "  </tbody>\n",
       "</table>\n",
       "</div>"
      ],
      "text/plain": [
       "           id                                           rle_mask\n",
       "0  575d24d81d                                                NaN\n",
       "1  a266a2a9df                                          5051 5151\n",
       "2  75efad62c1  9 93 109 94 210 94 310 95 411 95 511 96 612 96...\n",
       "3  34e51dba6a  48 54 149 54 251 53 353 52 455 51 557 50 659 4...\n",
       "4  4875705fb0  1111 1 1212 1 1313 1 1414 1 1514 2 1615 2 1716..."
      ]
     },
     "execution_count": 6,
     "metadata": {},
     "output_type": "execute_result"
    }
   ],
   "source": [
    "train = pd.read_csv(os.path.join(RAW_DATA_PATH, 'train.csv'))\n",
    "train.head()"
   ]
  },
  {
   "cell_type": "markdown",
   "metadata": {},
   "source": [
    "list of ids:"
   ]
  },
  {
   "cell_type": "code",
   "execution_count": 7,
   "metadata": {
    "collapsed": false
   },
   "outputs": [
    {
     "data": {
      "text/plain": [
       "array(['575d24d81d', 'a266a2a9df', '75efad62c1', ..., '1306fcee4c',\n",
       "       '48d81e93d9', 'edf1e6ac00'], dtype=object)"
      ]
     },
     "execution_count": 7,
     "metadata": {},
     "output_type": "execute_result"
    }
   ],
   "source": [
    "train_ids = train['id'].values\n",
    "train_ids"
   ]
  },
  {
   "cell_type": "markdown",
   "metadata": {},
   "source": [
    "`sample_submission.csv` has all the test ids, i've checked it"
   ]
  },
  {
   "cell_type": "code",
   "execution_count": 8,
   "metadata": {
    "collapsed": false
   },
   "outputs": [
    {
     "data": {
      "text/plain": [
       "array(['155410d6fa', '78b32781d1', '63db2a476a', ..., '07c3553ef7',\n",
       "       '9c2e45bf79', '41d0f0703c'], dtype=object)"
      ]
     },
     "execution_count": 8,
     "metadata": {},
     "output_type": "execute_result"
    }
   ],
   "source": [
    "sample = pd.read_csv(os.path.join(RAW_DATA_PATH, 'sample_submission.csv'))\n",
    "\n",
    "test_ids = sample['id'].values\n",
    "test_ids"
   ]
  },
  {
   "cell_type": "markdown",
   "metadata": {},
   "source": [
    "### Preprocess all the train data into appropriate structure"
   ]
  },
  {
   "cell_type": "code",
   "execution_count": 9,
   "metadata": {
    "collapsed": false
   },
   "outputs": [
    {
     "name": "stderr",
     "output_type": "stream",
     "text": [
      "Using TensorFlow backend.\n"
     ]
    }
   ],
   "source": [
    "from collections import defaultdict\n",
    "\n",
    "from keras.preprocessing.image import load_img\n",
    "from skimage.transform import resize\n",
    "\n",
    "# to import something from saltsegm \"lib\", add symlink to your conda or similar env\n",
    "# example:\n",
    "# ln -s ~/salt-challenge/saltsegm ~/anaconda3/lib/python3.6/site-packages/\n",
    "from saltsegm.utils import id2png"
   ]
  },
  {
   "cell_type": "code",
   "execution_count": 10,
   "metadata": {
    "collapsed": false,
    "scrolled": true
   },
   "outputs": [
    {
     "name": "stderr",
     "output_type": "stream",
     "text": [
      "100%|██████████| 4000/4000 [03:09<00:00, 21.09it/s]\n"
     ]
    }
   ],
   "source": [
    "metadata = defaultdict(dict)\n",
    "\n",
    "imgs_path = os.path.join(RAW_DATA_PATH, 'train/images')\n",
    "masks_path = os.path.join(RAW_DATA_PATH, 'train/masks')\n",
    "\n",
    "for i, _id in enumerate(tqdm(train_ids)):\n",
    "    if not os.path.isdir( os.path.join(prep_train_path, _id) ):\n",
    "        os.mkdir( os.path.join(prep_train_path, _id) )\n",
    "        \n",
    "    # raw image\n",
    "    img = np.array( load_img(os.path.join(imgs_path, id2png(_id)), grayscale=True) ) / 255.\n",
    "    img = np.array(img, dtype='float32')\n",
    "    \n",
    "    img_name = 'image.npy'\n",
    "    img_name = os.path.join(_id, img_name)\n",
    "    \n",
    "    \n",
    "    # image resized to 128x128\n",
    "    img128 = resize(img, output_shape=(128, 128), order=3, preserve_range=True)\n",
    "    \n",
    "    img128_name = 'image128.npy'\n",
    "    img128_name = os.path.join(_id, img128_name)\n",
    "    \n",
    "    \n",
    "    # raw mask\n",
    "    mask = np.array( load_img(os.path.join(masks_path, id2png(_id)), grayscale=True) ) / 255.\n",
    "    mask = np.array(mask, dtype='float32')\n",
    "    \n",
    "    mask_name = 'target.npy'\n",
    "    mask_name = os.path.join(_id, mask_name)\n",
    "    \n",
    "    \n",
    "    # mask resized to 128x128\n",
    "    mask128 = resize(mask, output_shape=(128, 128), order=3, preserve_range=True)\n",
    "    \n",
    "    mask128_name = 'target128.npy'\n",
    "    mask128_name = os.path.join(_id, mask128_name)\n",
    "    \n",
    "    \n",
    "    # depths\n",
    "    z = depths[depths['id'].values == _id]['z'].values[0]\n",
    "    \n",
    "    \n",
    "    # ratio of pixels with target to all pixels on the image\n",
    "    target_ratio = np.sum(mask) / np.product(mask.shape)\n",
    "    \n",
    "    \n",
    "    # is not empty?\n",
    "    is_not_empty = False if np.sum(img) == 0 else True\n",
    "\n",
    "    \n",
    "    metadata[i] = {'id': _id,\n",
    "                   'image': img_name,\n",
    "                   'target': mask_name,\n",
    "                   'image-128': img128_name,\n",
    "                   'target-128': mask128_name,\n",
    "                   'z': z,\n",
    "                   'target_ratio': target_ratio,\n",
    "                   'is_not_empty': is_not_empty}\n",
    "    \n",
    "    np.save(os.path.join(prep_train_path, img_name), img)\n",
    "    np.save(os.path.join(prep_train_path, img128_name), img128)\n",
    "    np.save(os.path.join(prep_train_path, mask_name), mask)\n",
    "    np.save(os.path.join(prep_train_path, mask128_name), mask128)\n",
    "    \n",
    "metadata_csv = pd.DataFrame.from_dict(metadata, orient='index')\n",
    "metadata_csv.to_csv( path_or_buf=os.path.join(prep_train_path, 'metadata.csv') )"
   ]
  },
  {
   "cell_type": "markdown",
   "metadata": {},
   "source": [
    "overview of metadata:"
   ]
  },
  {
   "cell_type": "code",
   "execution_count": 11,
   "metadata": {
    "collapsed": false
   },
   "outputs": [
    {
     "data": {
      "text/html": [
       "<div>\n",
       "<style>\n",
       "    .dataframe thead tr:only-child th {\n",
       "        text-align: right;\n",
       "    }\n",
       "\n",
       "    .dataframe thead th {\n",
       "        text-align: left;\n",
       "    }\n",
       "\n",
       "    .dataframe tbody tr th {\n",
       "        vertical-align: top;\n",
       "    }\n",
       "</style>\n",
       "<table border=\"1\" class=\"dataframe\">\n",
       "  <thead>\n",
       "    <tr style=\"text-align: right;\">\n",
       "      <th></th>\n",
       "      <th>id</th>\n",
       "      <th>image</th>\n",
       "      <th>target</th>\n",
       "      <th>image-128</th>\n",
       "      <th>target-128</th>\n",
       "      <th>z</th>\n",
       "      <th>target_ratio</th>\n",
       "      <th>is_not_empty</th>\n",
       "    </tr>\n",
       "  </thead>\n",
       "  <tbody>\n",
       "    <tr>\n",
       "      <th>0</th>\n",
       "      <td>575d24d81d</td>\n",
       "      <td>575d24d81d/image.npy</td>\n",
       "      <td>575d24d81d/target.npy</td>\n",
       "      <td>575d24d81d/image128.npy</td>\n",
       "      <td>575d24d81d/target128.npy</td>\n",
       "      <td>843</td>\n",
       "      <td>0.000000</td>\n",
       "      <td>True</td>\n",
       "    </tr>\n",
       "    <tr>\n",
       "      <th>1</th>\n",
       "      <td>a266a2a9df</td>\n",
       "      <td>a266a2a9df/image.npy</td>\n",
       "      <td>a266a2a9df/target.npy</td>\n",
       "      <td>a266a2a9df/image128.npy</td>\n",
       "      <td>a266a2a9df/target128.npy</td>\n",
       "      <td>794</td>\n",
       "      <td>0.504950</td>\n",
       "      <td>True</td>\n",
       "    </tr>\n",
       "    <tr>\n",
       "      <th>2</th>\n",
       "      <td>75efad62c1</td>\n",
       "      <td>75efad62c1/image.npy</td>\n",
       "      <td>75efad62c1/target.npy</td>\n",
       "      <td>75efad62c1/image128.npy</td>\n",
       "      <td>75efad62c1/target128.npy</td>\n",
       "      <td>468</td>\n",
       "      <td>0.993334</td>\n",
       "      <td>True</td>\n",
       "    </tr>\n",
       "    <tr>\n",
       "      <th>3</th>\n",
       "      <td>34e51dba6a</td>\n",
       "      <td>34e51dba6a/image.npy</td>\n",
       "      <td>34e51dba6a/target.npy</td>\n",
       "      <td>34e51dba6a/image128.npy</td>\n",
       "      <td>34e51dba6a/target128.npy</td>\n",
       "      <td>727</td>\n",
       "      <td>0.149201</td>\n",
       "      <td>True</td>\n",
       "    </tr>\n",
       "    <tr>\n",
       "      <th>4</th>\n",
       "      <td>4875705fb0</td>\n",
       "      <td>4875705fb0/image.npy</td>\n",
       "      <td>4875705fb0/target.npy</td>\n",
       "      <td>4875705fb0/image128.npy</td>\n",
       "      <td>4875705fb0/target128.npy</td>\n",
       "      <td>797</td>\n",
       "      <td>0.042839</td>\n",
       "      <td>True</td>\n",
       "    </tr>\n",
       "  </tbody>\n",
       "</table>\n",
       "</div>"
      ],
      "text/plain": [
       "           id                 image                 target  \\\n",
       "0  575d24d81d  575d24d81d/image.npy  575d24d81d/target.npy   \n",
       "1  a266a2a9df  a266a2a9df/image.npy  a266a2a9df/target.npy   \n",
       "2  75efad62c1  75efad62c1/image.npy  75efad62c1/target.npy   \n",
       "3  34e51dba6a  34e51dba6a/image.npy  34e51dba6a/target.npy   \n",
       "4  4875705fb0  4875705fb0/image.npy  4875705fb0/target.npy   \n",
       "\n",
       "                 image-128                target-128    z  target_ratio  \\\n",
       "0  575d24d81d/image128.npy  575d24d81d/target128.npy  843      0.000000   \n",
       "1  a266a2a9df/image128.npy  a266a2a9df/target128.npy  794      0.504950   \n",
       "2  75efad62c1/image128.npy  75efad62c1/target128.npy  468      0.993334   \n",
       "3  34e51dba6a/image128.npy  34e51dba6a/target128.npy  727      0.149201   \n",
       "4  4875705fb0/image128.npy  4875705fb0/target128.npy  797      0.042839   \n",
       "\n",
       "   is_not_empty  \n",
       "0          True  \n",
       "1          True  \n",
       "2          True  \n",
       "3          True  \n",
       "4          True  "
      ]
     },
     "execution_count": 11,
     "metadata": {},
     "output_type": "execute_result"
    }
   ],
   "source": [
    "metadata_csv.head()"
   ]
  },
  {
   "cell_type": "markdown",
   "metadata": {},
   "source": [
    "### Preprocess all the test data into appropriate structure"
   ]
  },
  {
   "cell_type": "code",
   "execution_count": 13,
   "metadata": {
    "collapsed": false
   },
   "outputs": [
    {
     "name": "stderr",
     "output_type": "stream",
     "text": [
      "100%|██████████| 18000/18000 [08:00<00:00, 37.48it/s]\n"
     ]
    }
   ],
   "source": [
    "metadata = defaultdict(dict)\n",
    "\n",
    "imgs_path = os.path.join(RAW_DATA_PATH, 'test/images')\n",
    "\n",
    "for i, _id in enumerate(tqdm(test_ids)):\n",
    "    if not os.path.isdir( os.path.join(prep_test_path, _id) ):\n",
    "        os.mkdir( os.path.join(prep_test_path, _id) )\n",
    "        \n",
    "    # raw image\n",
    "    img = np.array( load_img(os.path.join(imgs_path, id2png(_id)), grayscale=True) ) / 255.\n",
    "    img = np.array(img, dtype='float32')\n",
    "    \n",
    "    img_name = 'image.npy'\n",
    "    img_name = os.path.join(_id, img_name)\n",
    "    \n",
    "    \n",
    "    # image resized to 128x128\n",
    "    img128 = resize(img, output_shape=(128, 128), order=3, preserve_range=True)\n",
    "    \n",
    "    img128_name = 'image128.npy'\n",
    "    img128_name = os.path.join(_id, img128_name)\n",
    "    \n",
    "    \n",
    "    # depths\n",
    "    z = depths[depths['id'].values == _id]['z'].values[0]\n",
    "    \n",
    "    \n",
    "    # is not empty?\n",
    "    is_not_empty = False if np.sum(img) == 0 else True\n",
    "\n",
    "    \n",
    "    metadata[i] = {'id': _id,\n",
    "                   'image': img_name,\n",
    "                   'image-128': img128_name,\n",
    "                   'z': z,\n",
    "                   'is_not_empty': is_not_empty}\n",
    "    \n",
    "    np.save(os.path.join(prep_test_path, img_name), img)\n",
    "    np.save(os.path.join(prep_test_path, img128_name), img128)\n",
    "    \n",
    "metadata_csv = pd.DataFrame.from_dict(metadata, orient='index')\n",
    "metadata_csv.to_csv( path_or_buf=os.path.join(prep_test_path, 'metadata.csv') )"
   ]
  },
  {
   "cell_type": "markdown",
   "metadata": {},
   "source": [
    "overview of metadata:"
   ]
  },
  {
   "cell_type": "code",
   "execution_count": 14,
   "metadata": {
    "collapsed": false
   },
   "outputs": [
    {
     "data": {
      "text/html": [
       "<div>\n",
       "<style>\n",
       "    .dataframe thead tr:only-child th {\n",
       "        text-align: right;\n",
       "    }\n",
       "\n",
       "    .dataframe thead th {\n",
       "        text-align: left;\n",
       "    }\n",
       "\n",
       "    .dataframe tbody tr th {\n",
       "        vertical-align: top;\n",
       "    }\n",
       "</style>\n",
       "<table border=\"1\" class=\"dataframe\">\n",
       "  <thead>\n",
       "    <tr style=\"text-align: right;\">\n",
       "      <th></th>\n",
       "      <th>id</th>\n",
       "      <th>image</th>\n",
       "      <th>image-128</th>\n",
       "      <th>z</th>\n",
       "      <th>is_not_empty</th>\n",
       "    </tr>\n",
       "  </thead>\n",
       "  <tbody>\n",
       "    <tr>\n",
       "      <th>0</th>\n",
       "      <td>155410d6fa</td>\n",
       "      <td>155410d6fa/image.npy</td>\n",
       "      <td>155410d6fa/image128.npy</td>\n",
       "      <td>559</td>\n",
       "      <td>True</td>\n",
       "    </tr>\n",
       "    <tr>\n",
       "      <th>1</th>\n",
       "      <td>78b32781d1</td>\n",
       "      <td>78b32781d1/image.npy</td>\n",
       "      <td>78b32781d1/image128.npy</td>\n",
       "      <td>298</td>\n",
       "      <td>True</td>\n",
       "    </tr>\n",
       "    <tr>\n",
       "      <th>2</th>\n",
       "      <td>63db2a476a</td>\n",
       "      <td>63db2a476a/image.npy</td>\n",
       "      <td>63db2a476a/image128.npy</td>\n",
       "      <td>392</td>\n",
       "      <td>True</td>\n",
       "    </tr>\n",
       "    <tr>\n",
       "      <th>3</th>\n",
       "      <td>17bfcdb967</td>\n",
       "      <td>17bfcdb967/image.npy</td>\n",
       "      <td>17bfcdb967/image128.npy</td>\n",
       "      <td>698</td>\n",
       "      <td>True</td>\n",
       "    </tr>\n",
       "    <tr>\n",
       "      <th>4</th>\n",
       "      <td>7ea0fd3c88</td>\n",
       "      <td>7ea0fd3c88/image.npy</td>\n",
       "      <td>7ea0fd3c88/image128.npy</td>\n",
       "      <td>837</td>\n",
       "      <td>True</td>\n",
       "    </tr>\n",
       "  </tbody>\n",
       "</table>\n",
       "</div>"
      ],
      "text/plain": [
       "           id                 image                image-128    z  \\\n",
       "0  155410d6fa  155410d6fa/image.npy  155410d6fa/image128.npy  559   \n",
       "1  78b32781d1  78b32781d1/image.npy  78b32781d1/image128.npy  298   \n",
       "2  63db2a476a  63db2a476a/image.npy  63db2a476a/image128.npy  392   \n",
       "3  17bfcdb967  17bfcdb967/image.npy  17bfcdb967/image128.npy  698   \n",
       "4  7ea0fd3c88  7ea0fd3c88/image.npy  7ea0fd3c88/image128.npy  837   \n",
       "\n",
       "   is_not_empty  \n",
       "0          True  \n",
       "1          True  \n",
       "2          True  \n",
       "3          True  \n",
       "4          True  "
      ]
     },
     "execution_count": 14,
     "metadata": {},
     "output_type": "execute_result"
    }
   ],
   "source": [
    "metadata_csv.head()"
   ]
  },
  {
   "cell_type": "markdown",
   "metadata": {},
   "source": [
    "If you want to append new preprocess image of feature just add column into metadata and/or insert this object into corresponding image's folder."
   ]
  },
  {
   "cell_type": "code",
   "execution_count": null,
   "metadata": {
    "collapsed": true
   },
   "outputs": [],
   "source": []
  }
 ],
 "metadata": {
  "kernelspec": {
   "display_name": "Python 3",
   "language": "python",
   "name": "python3"
  },
  "language_info": {
   "codemirror_mode": {
    "name": "ipython",
    "version": 3
   },
   "file_extension": ".py",
   "mimetype": "text/x-python",
   "name": "python",
   "nbconvert_exporter": "python",
   "pygments_lexer": "ipython3",
   "version": "3.6.0"
  }
 },
 "nbformat": 4,
 "nbformat_minor": 2
}

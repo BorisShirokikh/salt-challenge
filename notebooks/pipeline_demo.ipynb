{
 "cells": [
  {
   "cell_type": "markdown",
   "metadata": {},
   "source": [
    "misc imports"
   ]
  },
  {
   "cell_type": "code",
   "execution_count": 1,
   "metadata": {
    "collapsed": true
   },
   "outputs": [],
   "source": [
    "import warnings\n",
    "warnings.filterwarnings('ignore')"
   ]
  },
  {
   "cell_type": "code",
   "execution_count": 2,
   "metadata": {
    "collapsed": true
   },
   "outputs": [],
   "source": [
    "import os\n",
    "\n",
    "import numpy as np\n",
    "import pandas as pd\n",
    "from tqdm import tqdm\n",
    "\n",
    "import matplotlib.pyplot as plt\n",
    "%matplotlib inline"
   ]
  },
  {
   "cell_type": "markdown",
   "metadata": {
    "collapsed": true
   },
   "source": [
    "## Dataset"
   ]
  },
  {
   "cell_type": "markdown",
   "metadata": {},
   "source": [
    "dataset config:"
   ]
  },
  {
   "cell_type": "code",
   "execution_count": 3,
   "metadata": {
    "collapsed": true
   },
   "outputs": [],
   "source": [
    "DATA_PATH = '/cobrain/groups/ml_group/data/dustpelt/salt_prep/train/'\n",
    "\n",
    "modalities = ['image']\n",
    "target = 'target'"
   ]
  },
  {
   "cell_type": "markdown",
   "metadata": {},
   "source": [
    "dataset:"
   ]
  },
  {
   "cell_type": "code",
   "execution_count": 4,
   "metadata": {
    "collapsed": true
   },
   "outputs": [],
   "source": [
    "from saltsegm.dataset import Dataset\n",
    "\n",
    "ds = Dataset(data_path = DATA_PATH, modalities=modalities, target=target)"
   ]
  },
  {
   "cell_type": "markdown",
   "metadata": {
    "collapsed": true
   },
   "source": [
    "## Cross-val split"
   ]
  },
  {
   "cell_type": "markdown",
   "metadata": {},
   "source": [
    "cross validation config:"
   ]
  },
  {
   "cell_type": "code",
   "execution_count": 5,
   "metadata": {
    "collapsed": true
   },
   "outputs": [],
   "source": [
    "from saltsegm.utils import ratio2groups\n",
    "\n",
    "n_splits = 5\n",
    "val_size = 150\n",
    "\n",
    "random_state = 42\n",
    "\n",
    "ratio = ds.metadata['target_ratio'].values\n",
    "groups = ratio2groups(ratio)"
   ]
  },
  {
   "cell_type": "markdown",
   "metadata": {},
   "source": [
    "split:"
   ]
  },
  {
   "cell_type": "code",
   "execution_count": 6,
   "metadata": {
    "collapsed": true
   },
   "outputs": [],
   "source": [
    "from saltsegm.cross_validation import get_cv_111\n",
    "\n",
    "cv_splits = get_cv_111(ds.ids, n_splits=n_splits, val_size=val_size,\n",
    "                       groups=groups, random_state=random_state)"
   ]
  },
  {
   "cell_type": "markdown",
   "metadata": {
    "collapsed": true
   },
   "source": [
    "## Build experiment"
   ]
  },
  {
   "cell_type": "markdown",
   "metadata": {},
   "source": [
    "experiment config:"
   ]
  },
  {
   "cell_type": "code",
   "execution_count": 7,
   "metadata": {
    "collapsed": true
   },
   "outputs": [],
   "source": [
    "EXP_PATH = '/cobrain/groups/ml_group/experiments/dustpelt/salt_segm/test_exp'"
   ]
  },
  {
   "cell_type": "markdown",
   "metadata": {},
   "source": [
    "generating experiment:"
   ]
  },
  {
   "cell_type": "code",
   "execution_count": 8,
   "metadata": {
    "collapsed": true
   },
   "outputs": [],
   "source": [
    "from saltsegm.experiment import generate_experiment\n",
    "\n",
    "# generate_experiment(exp_path=EXP_PATH, cv_splits=cv_splits, dataset=ds)"
   ]
  },
  {
   "cell_type": "markdown",
   "metadata": {},
   "source": [
    "## Load experiment"
   ]
  },
  {
   "cell_type": "code",
   "execution_count": 9,
   "metadata": {
    "collapsed": true
   },
   "outputs": [],
   "source": [
    "from saltsegm.experiment import load_experiment_data"
   ]
  },
  {
   "cell_type": "code",
   "execution_count": 10,
   "metadata": {},
   "outputs": [],
   "source": [
    "n_val = 0\n",
    "\n",
    "x_train, y_train, x_val, y_val, x_test, y_test = load_experiment_data(exp_path=EXP_PATH, n_val=n_val)"
   ]
  },
  {
   "cell_type": "markdown",
   "metadata": {},
   "source": [
    "## Batch iterator"
   ]
  },
  {
   "cell_type": "markdown",
   "metadata": {},
   "source": [
    "batch_iter config:"
   ]
  },
  {
   "cell_type": "code",
   "execution_count": 11,
   "metadata": {
    "collapsed": true
   },
   "outputs": [],
   "source": [
    "from saltsegm.augmentation import augm_example\n",
    "from saltsegm.batch_iter import BatchIter"
   ]
  },
  {
   "cell_type": "code",
   "execution_count": 12,
   "metadata": {
    "collapsed": true
   },
   "outputs": [],
   "source": [
    "train_ids = cv_splits[n_val]['train_ids']\n",
    "\n",
    "load_x = ds.load_x\n",
    "load_y = ds.load_y\n",
    "\n",
    "augm_fn = augm_example\n",
    "\n",
    "batch_size=32"
   ]
  },
  {
   "cell_type": "markdown",
   "metadata": {},
   "source": [
    "batch_iter:"
   ]
  },
  {
   "cell_type": "code",
   "execution_count": 13,
   "metadata": {
    "scrolled": true
   },
   "outputs": [
    {
     "name": "stderr",
     "output_type": "stream",
     "text": [
      "100%|██████████| 3048/3048 [00:16<00:00, 182.03it/s]\n"
     ]
    }
   ],
   "source": [
    "batch_iter = BatchIter(train_ids=train_ids, load_x=load_x, load_y=load_y,\n",
    "                       augm_fn=augm_example, batch_size=batch_size)"
   ]
  },
  {
   "cell_type": "markdown",
   "metadata": {},
   "source": [
    "## Torch Model"
   ]
  },
  {
   "cell_type": "markdown",
   "metadata": {},
   "source": [
    "model config:"
   ]
  },
  {
   "cell_type": "code",
   "execution_count": 14,
   "metadata": {
    "collapsed": true
   },
   "outputs": [],
   "source": [
    "import torch\n",
    "import torch.nn as nn\n",
    "\n",
    "from saltsegm.torch_models.example import get_Example\n",
    "from saltsegm.torch_models.model import TorchModel\n",
    "from saltsegm.metrics import dice_score"
   ]
  },
  {
   "cell_type": "code",
   "execution_count": 15,
   "metadata": {
    "collapsed": true
   },
   "outputs": [],
   "source": [
    "model = get_Example()\n",
    "\n",
    "loss_fn = nn.BCEWithLogitsLoss()\n",
    "\n",
    "metric_fn = dice_score\n",
    "\n",
    "# TODO: schedule\n",
    "lr = 1e-3\n",
    "\n",
    "# TODO: partially\n",
    "# optimizer = torch.optim.Adam(model.parameters(), lr=learning_rate)\n",
    "optim = torch.optim.Adam"
   ]
  },
  {
   "cell_type": "code",
   "execution_count": 16,
   "metadata": {
    "collapsed": true
   },
   "outputs": [],
   "source": [
    "model_torch = TorchModel(model=model, loss_fn=loss_fn, metric_fn=metric_fn,\n",
    "                         optim=optim, lr=lr)"
   ]
  },
  {
   "cell_type": "markdown",
   "metadata": {},
   "source": [
    "testing"
   ]
  },
  {
   "cell_type": "code",
   "execution_count": 17,
   "metadata": {},
   "outputs": [
    {
     "name": "stderr",
     "output_type": "stream",
     "text": [
      "epoch 1/10: 96it [00:02, 34.90it/s, val_loss=0.561704, val_metric=0.4]                        \n",
      "epoch 2/10: 96it [00:02, 41.72it/s, val_loss=0.5397995, val_metric=0.4]                        \n",
      "epoch 3/10: 96it [00:02, 42.27it/s, val_loss=0.5437645, val_metric=0.4]                        \n",
      "epoch 4/10: 96it [00:02, 38.15it/s, val_loss=0.5214584, val_metric=0.4]                        \n",
      "epoch 5/10: 96it [00:02, 43.62it/s, val_loss=0.509385, val_metric=0.4]                        \n",
      "epoch 6/10: 96it [00:02, 43.39it/s, val_loss=0.49883562, val_metric=0.393]                        \n",
      "epoch 7/10: 96it [00:02, 44.50it/s, val_loss=0.5236831, val_metric=0.4]                        \n",
      "epoch 8/10: 96it [00:02, 44.78it/s, val_loss=0.48504525, val_metric=0.356]                        \n",
      "epoch 9/10: 96it [00:02, 43.84it/s, val_loss=0.48176956, val_metric=0.344]                        \n",
      "epoch 10/10: 96it [00:02, 44.80it/s, val_loss=0.49414435, val_metric=0.249]                        \n"
     ]
    }
   ],
   "source": [
    "history = model_torch.fit_generator(\n",
    "    batch_iter.flow(), epochs=10, val_data=(x_val, y_val),\n",
    "    steps_per_epoch=len(x_train) // batch_size, verbose=True\n",
    ")"
   ]
  },
  {
   "cell_type": "code",
   "execution_count": 18,
   "metadata": {},
   "outputs": [
    {
     "data": {
      "image/png": "[encoded data removed]",
      "text/plain": [
       "<matplotlib.figure.Figure at 0x7fc9be344d30>"
      ]
     },
     "metadata": {},
     "output_type": "display_data"
    }
   ],
   "source": [
    "plt.plot(history['train_losses'], 'b-')\n",
    "plt.show()"
   ]
  },
  {
   "cell_type": "code",
   "execution_count": 19,
   "metadata": {},
   "outputs": [
    {
     "data": {
      "image/png": "[encoded data removed]",
      "text/plain": [
       "<matplotlib.figure.Figure at 0x7fc9bdbe63c8>"
      ]
     },
     "metadata": {},
     "output_type": "display_data"
    }
   ],
   "source": [
    "plt.plot(history['val_losses'], 'b-')\n",
    "plt.show()"
   ]
  },
  {
   "cell_type": "code",
   "execution_count": 20,
   "metadata": {},
   "outputs": [
    {
     "data": {
      "image/png": "[encoded data removed]",
      "text/plain": [
       "<matplotlib.figure.Figure at 0x7fc95b1b7da0>"
      ]
     },
     "metadata": {},
     "output_type": "display_data"
    }
   ],
   "source": [
    "plt.plot(history['val_metrics'], 'b-')\n",
    "plt.show()"
   ]
  },
  {
   "cell_type": "markdown",
   "metadata": {
    "collapsed": true
   },
   "source": [
    "## Saving model, test prediction and metric values"
   ]
  },
  {
   "cell_type": "markdown",
   "metadata": {},
   "source": [
    "`TODO`"
   ]
  },
  {
   "cell_type": "markdown",
   "metadata": {},
   "source": [
    "## Keras model"
   ]
  },
  {
   "cell_type": "code",
   "execution_count": 17,
   "metadata": {},
   "outputs": [
    {
     "name": "stderr",
     "output_type": "stream",
     "text": [
      "Using TensorFlow backend.\n"
     ]
    }
   ],
   "source": [
    "import keras\n",
    "\n",
    "from saltsegm.keras_models.simple_model import CNN"
   ]
  },
  {
   "cell_type": "code",
   "execution_count": 18,
   "metadata": {
    "collapsed": true
   },
   "outputs": [],
   "source": [
    "input_shape = (1, 101, 101)"
   ]
  },
  {
   "cell_type": "code",
   "execution_count": 19,
   "metadata": {
    "collapsed": true
   },
   "outputs": [],
   "source": [
    "model_keras = CNN(input_shape)"
   ]
  },
  {
   "cell_type": "code",
   "execution_count": 20,
   "metadata": {},
   "outputs": [
    {
     "name": "stdout",
     "output_type": "stream",
     "text": [
      "_________________________________________________________________\n",
      "Layer (type)                 Output Shape              Param #   \n",
      "=================================================================\n",
      "conv2d_1 (Conv2D)            (None, 8, 101, 101)       80        \n",
      "_________________________________________________________________\n",
      "conv2d_2 (Conv2D)            (None, 8, 101, 101)       72        \n",
      "_________________________________________________________________\n",
      "conv2d_3 (Conv2D)            (None, 1, 101, 101)       9         \n",
      "=================================================================\n",
      "Total params: 161\n",
      "Trainable params: 161\n",
      "Non-trainable params: 0\n",
      "_________________________________________________________________\n"
     ]
    }
   ],
   "source": [
    "model_keras.compile(loss=keras.losses.binary_crossentropy,\n",
    "                    optimizer=keras.optimizers.RMSprop(),\n",
    "                    metrics=['mse'])\n",
    "model_keras.summary()"
   ]
  },
  {
   "cell_type": "code",
   "execution_count": 27,
   "metadata": {
    "scrolled": true
   },
   "outputs": [
    {
     "name": "stdout",
     "output_type": "stream",
     "text": [
      "Epoch 1/2\n",
      "95/95 [==============================] - 7s 73ms/step - loss: 0.6607 - mean_squared_error: 0.2340 - val_loss: 0.5991 - val_mean_squared_error: 0.2039\n",
      "Epoch 2/2\n",
      "95/95 [==============================] - 7s 71ms/step - loss: 0.5725 - mean_squared_error: 0.1917 - val_loss: 0.5633 - val_mean_squared_error: 0.1881\n"
     ]
    }
   ],
   "source": [
    "h = model_keras.fit_generator(batch_iter.flow(),\n",
    "        epochs=2, validation_data=(x_val, y_val),\n",
    "        verbose=1, steps_per_epoch=len(x_train) // 32\n",
    ")"
   ]
  },
  {
   "cell_type": "code",
   "execution_count": 19,
   "metadata": {
    "collapsed": true
   },
   "outputs": [],
   "source": [
    "from saltsegm.utils import get_pred"
   ]
  },
  {
   "cell_type": "code",
   "execution_count": 23,
   "metadata": {},
   "outputs": [
    {
     "data": {
      "image/png": "[encoded data removed]",
      "text/plain": [
       "<matplotlib.figure.Figure at 0x7f430c23fef0>"
      ]
     },
     "metadata": {},
     "output_type": "display_data"
    }
   ],
   "source": [
    "_id = 21\n",
    "\n",
    "x = ds.load_x(_id)[0]\n",
    "y_true = ds.load_y(_id)[0]\n",
    "# y_pred = get_pred(model.predict(xs[_id:_id+1])[0])\n",
    "y_pred = model.predict(xs[_id:_id+1])[0][0]\n",
    "\n",
    "fig, axs = plt.subplots(1, 3, figsize=(15, 5))\n",
    "    \n",
    "ax_x = axs[0]\n",
    "ax_true = axs[1]\n",
    "ax_pred = axs[2]\n",
    "\n",
    "ax_x.imshow(x)\n",
    "ax_true.imshow(y_true)\n",
    "ax_pred.imshow(y_pred)\n",
    "\n",
    "plt.show()"
   ]
  },
  {
   "cell_type": "code",
   "execution_count": 25,
   "metadata": {},
   "outputs": [
    {
     "data": {
      "text/plain": [
       "array([[0.24202004, 0.24188724, 0.24262686, ..., 0.24267848, 0.24216063,\n",
       "        0.23732427],\n",
       "       [0.24296154, 0.24475545, 0.24547596, ..., 0.24562743, 0.24467003,\n",
       "        0.24125236],\n",
       "       [0.24239239, 0.24474598, 0.24598803, ..., 0.2459156 , 0.24506399,\n",
       "        0.24293512],\n",
       "       ...,\n",
       "       [0.24255462, 0.24475318, 0.24581227, ..., 0.24621257, 0.24574311,\n",
       "        0.24348603],\n",
       "       [0.24313706, 0.24447858, 0.24535015, ..., 0.24595387, 0.24525417,\n",
       "        0.24291126],\n",
       "       [0.24881072, 0.2469497 , 0.24804288, ..., 0.24856749, 0.24761611,\n",
       "        0.24951142]], dtype=float32)"
      ]
     },
     "execution_count": 25,
     "metadata": {},
     "output_type": "execute_result"
    }
   ],
   "source": [
    "_id=21\n",
    "model.predict(xs[_id:_id+1])[0][0]"
   ]
  },
  {
   "cell_type": "code",
   "execution_count": 12,
   "metadata": {
    "collapsed": true
   },
   "outputs": [],
   "source": [
    "datagen = ImageDataGenerator(\n",
    "        featurewise_center=False,  # set input mean to 0 over the dataset\n",
    "        samplewise_center=False,  # set each sample mean to 0\n",
    "        featurewise_std_normalization=False,  # divide inputs by std of the dataset\n",
    "        samplewise_std_normalization=False,  # divide each input by its std\n",
    "        zca_whitening=False,  # apply ZCA whitening\n",
    "        rotation_range=0, # randomly rotate images in the range (degrees, 0 to 180)\n",
    "        zoom_range = 0, # Randomly zoom image \n",
    "        width_shift_range=0,  # randomly shift images horizontally (fraction of total width)\n",
    "        height_shift_range=0,  # randomly shift images vertically (fraction of total height)\n",
    "        horizontal_flip=False,  # randomly flip images\n",
    "        vertical_flip=False)  # randomly flip images"
   ]
  },
  {
   "cell_type": "code",
   "execution_count": null,
   "metadata": {
    "collapsed": true
   },
   "outputs": [],
   "source": [
    "model.compile()"
   ]
  },
  {
   "cell_type": "code",
   "execution_count": null,
   "metadata": {
    "collapsed": true
   },
   "outputs": [],
   "source": [
    "os.makedirs()"
   ]
  }
 ],
 "metadata": {
  "kernelspec": {
   "display_name": "Python 3",
   "language": "python",
   "name": "python3"
  },
  "language_info": {
   "codemirror_mode": {
    "name": "ipython",
    "version": 3
   },
   "file_extension": ".py",
   "mimetype": "text/x-python",
   "name": "python",
   "nbconvert_exporter": "python",
   "pygments_lexer": "ipython3",
   "version": "3.6.3"
  }
 },
 "nbformat": 4,
 "nbformat_minor": 2
}

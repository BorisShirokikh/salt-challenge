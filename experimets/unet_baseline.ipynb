{
 "cells": [
  {
   "cell_type": "markdown",
   "metadata": {},
   "source": [
    "misc imports"
   ]
  },
  {
   "cell_type": "code",
   "execution_count": 1,
   "metadata": {
    "collapsed": true
   },
   "outputs": [],
   "source": [
    "import warnings\n",
    "warnings.filterwarnings('ignore')"
   ]
  },
  {
   "cell_type": "code",
   "execution_count": 2,
   "metadata": {
    "collapsed": true
   },
   "outputs": [],
   "source": [
    "import os\n",
    "from functools import partial\n",
    "\n",
    "import numpy as np\n",
    "import pandas as pd\n",
    "from tqdm import tqdm\n",
    "\n",
    "import matplotlib.pyplot as plt\n",
    "%matplotlib inline"
   ]
  },
  {
   "cell_type": "markdown",
   "metadata": {},
   "source": [
    "# Config"
   ]
  },
  {
   "cell_type": "code",
   "execution_count": 3,
   "metadata": {
    "collapsed": true
   },
   "outputs": [],
   "source": [
    "import torch\n",
    "import torch.nn as nn\n",
    "\n",
    "from saltsegm.utils import ratio2groups, dump_json\n",
    "from saltsegm.torch_models.unet import get_UNet\n",
    "from saltsegm.metrics import dice_score, main_metric\n",
    "from saltsegm.dataset import Dataset\n",
    "from saltsegm.cross_validation import get_cv_111"
   ]
  },
  {
   "cell_type": "code",
   "execution_count": 4,
   "metadata": {
    "collapsed": true
   },
   "outputs": [],
   "source": [
    "DATA_PATH = '/cobrain/groups/ml_group/data/dustpelt/salt_prep/train/'\n",
    "EXP_PATH = '/cobrain/groups/ml_group/experiments/dustpelt/salt_segm/unet_baseline/'\n",
    "\n",
    "modalities = ['image-128']\n",
    "target = 'target-128'\n",
    "n_channels = len(modalities)\n",
    "n_classes = 1\n",
    "\n",
    "ds = Dataset(data_path = DATA_PATH, modalities=modalities, target=target)\n",
    "\n",
    "# ================================================================================\n",
    "\n",
    "n_splits = 5\n",
    "val_size = 100\n",
    "\n",
    "batch_size = 32\n",
    "epochs = 50\n",
    "steps_per_epoch = 100\n",
    "\n",
    "lr_init = 1e-2\n",
    "patience = 5\n",
    "lr_factor = 0.3\n",
    "\n",
    "optim = partial(torch.optim.Adam, lr=lr_init)\n",
    "\n",
    "lr_scheduler = partial(torch.optim.lr_scheduler.ReduceLROnPlateau,\n",
    "                       factor=lr_factor, patience=patience, verbose=True)\n",
    "\n",
    "# ================================================================================\n",
    "\n",
    "random_state = 42\n",
    "\n",
    "ratio = ds.metadata['target_ratio'].values\n",
    "groups = ratio2groups(ratio)\n",
    "\n",
    "cv_splits = get_cv_111(ds.ids, n_splits=n_splits, val_size=val_size,\n",
    "                       groups=groups, random_state=random_state)\n",
    "\n",
    "# ================================================================================\n",
    "\n",
    "\n",
    "load_x = ds.load_x\n",
    "load_y = ds.load_y\n",
    "\n",
    "metric_fn = dice_score\n",
    "metrics_dict = {'dice_score': dice_score,\n",
    "                'main_metric': main_metric}\n",
    "\n",
    "loss_fn = nn.BCEWithLogitsLoss()"
   ]
  },
  {
   "cell_type": "markdown",
   "metadata": {},
   "source": [
    "## Build experiment"
   ]
  },
  {
   "cell_type": "code",
   "execution_count": 5,
   "metadata": {
    "collapsed": true
   },
   "outputs": [],
   "source": [
    "from saltsegm.experiment import generate_experiment\n",
    "\n",
    "generate_experiment(exp_path=EXP_PATH, cv_splits=cv_splits, dataset=ds)"
   ]
  },
  {
   "cell_type": "markdown",
   "metadata": {},
   "source": [
    "# Carry on experiment"
   ]
  },
  {
   "cell_type": "code",
   "execution_count": 6,
   "metadata": {
    "collapsed": true
   },
   "outputs": [],
   "source": [
    "from saltsegm.experiment import load_val_data, make_predictions, calculate_metrics\n",
    "from saltsegm.batch_iter import BatchIter\n",
    "from saltsegm.torch_models.model import TorchModel"
   ]
  },
  {
   "cell_type": "markdown",
   "metadata": {},
   "source": [
    "### val 0"
   ]
  },
  {
   "cell_type": "code",
   "execution_count": 7,
   "metadata": {
    "collapsed": true
   },
   "outputs": [],
   "source": [
    "n_val = 0\n",
    "VAL_PATH = os.path.join(EXP_PATH, f'experiment_{n_val}')"
   ]
  },
  {
   "cell_type": "code",
   "execution_count": null,
   "metadata": {
    "collapsed": true
   },
   "outputs": [],
   "source": [
    "x_val, y_val = load_val_data(exp_path=EXP_PATH, n_val=n_val)\n",
    "val_data = (x_val, y_val)\n",
    "\n",
    "train_ids = cv_splits[n_val]['train_ids']\n",
    "\n",
    "batch_iter = BatchIter(train_ids=train_ids, load_x=load_x, load_y=load_y,\n",
    "                       batch_size=batch_size)"
   ]
  },
  {
   "cell_type": "code",
   "execution_count": null,
   "metadata": {
    "collapsed": true,
    "scrolled": true
   },
   "outputs": [],
   "source": [
    "model = get_UNet(n_channels=n_channels, n_classes=n_classes)\n",
    "model_torch = TorchModel(model=model, loss_fn=loss_fn, metric_fn=metric_fn,\n",
    "                         optim=optim, lr_scheduler=lr_scheduler)\n",
    "\n",
    "history = model_torch.fit_generator(\n",
    "    batch_iter.flow(), epochs=epochs, val_data=val_data,\n",
    "    steps_per_epoch=steps_per_epoch, verbose=True\n",
    ")\n",
    "\n",
    "dump_json(history, os.path.join(VAL_PATH, 'history.json'))\n",
    "\n",
    "model_filename = os.path.join(VAL_PATH, 'model.pt')\n",
    "torch.save(model_torch.model, model_filename)\n",
    "\n",
    "make_predictions(exp_path=EXP_PATH, n_val=n_val, model=model_torch)\n",
    "\n",
    "calculate_metrics(exp_path=EXP_PATH, n_val=n_val, metrics_dict=metrics_dict)"
   ]
  },
  {
   "cell_type": "markdown",
   "metadata": {},
   "source": [
    "### val 1"
   ]
  },
  {
   "cell_type": "code",
   "execution_count": null,
   "metadata": {
    "collapsed": true
   },
   "outputs": [],
   "source": [
    "n_val = 1\n",
    "VAL_PATH = os.path.join(EXP_PATH, f'experiment_{n_val}')"
   ]
  },
  {
   "cell_type": "code",
   "execution_count": null,
   "metadata": {
    "collapsed": true
   },
   "outputs": [],
   "source": [
    "x_val, y_val = load_val_data(exp_path=EXP_PATH, n_val=n_val)\n",
    "val_data = (x_val, y_val)\n",
    "\n",
    "train_ids = cv_splits[n_val]['train_ids']\n",
    "\n",
    "batch_iter = BatchIter(train_ids=train_ids, load_x=load_x, load_y=load_y,\n",
    "                       batch_size=batch_size)"
   ]
  },
  {
   "cell_type": "code",
   "execution_count": null,
   "metadata": {
    "collapsed": true
   },
   "outputs": [],
   "source": [
    "model = get_UNet(n_channels=n_channels, n_classes=n_classes)\n",
    "model_torch = TorchModel(model=model, loss_fn=loss_fn, metric_fn=metric_fn,\n",
    "                         optim=optim, lr_scheduler=lr_scheduler)\n",
    "\n",
    "history = model_torch.fit_generator(\n",
    "    batch_iter.flow(), epochs=epochs, val_data=val_data,\n",
    "    steps_per_epoch=steps_per_epoch, verbose=True\n",
    ")\n",
    "\n",
    "dump_json(history, os.path.join(VAL_PATH, 'history.json'))\n",
    "\n",
    "model_filename = os.path.join(VAL_PATH, 'model.pt')\n",
    "torch.save(model_torch.model, model_filename)\n",
    "\n",
    "make_predictions(exp_path=EXP_PATH, n_val=n_val, model=model_torch)\n",
    "\n",
    "calculate_metrics(exp_path=EXP_PATH, n_val=n_val, metrics_dict=metrics_dict)"
   ]
  },
  {
   "cell_type": "markdown",
   "metadata": {},
   "source": [
    "### val 2"
   ]
  },
  {
   "cell_type": "code",
   "execution_count": null,
   "metadata": {
    "collapsed": true
   },
   "outputs": [],
   "source": [
    "n_val = 2\n",
    "VAL_PATH = os.path.join(EXP_PATH, f'experiment_{n_val}')"
   ]
  },
  {
   "cell_type": "code",
   "execution_count": null,
   "metadata": {
    "collapsed": true
   },
   "outputs": [],
   "source": [
    "x_val, y_val = load_val_data(exp_path=EXP_PATH, n_val=n_val)\n",
    "val_data = (x_val, y_val)\n",
    "\n",
    "train_ids = cv_splits[n_val]['train_ids']\n",
    "\n",
    "batch_iter = BatchIter(train_ids=train_ids, load_x=load_x, load_y=load_y,\n",
    "                       batch_size=batch_size)"
   ]
  },
  {
   "cell_type": "code",
   "execution_count": null,
   "metadata": {
    "collapsed": true
   },
   "outputs": [],
   "source": [
    "model = get_UNet(n_channels=n_channels, n_classes=n_classes)\n",
    "model_torch = TorchModel(model=model, loss_fn=loss_fn, metric_fn=metric_fn,\n",
    "                         optim=optim, lr_scheduler=lr_scheduler)\n",
    "\n",
    "history = model_torch.fit_generator(\n",
    "    batch_iter.flow(), epochs=epochs, val_data=val_data,\n",
    "    steps_per_epoch=steps_per_epoch, verbose=True\n",
    ")\n",
    "\n",
    "dump_json(history, os.path.join(VAL_PATH, 'history.json'))\n",
    "\n",
    "model_filename = os.path.join(VAL_PATH, 'model.pt')\n",
    "torch.save(model_torch.model, model_filename)\n",
    "\n",
    "make_predictions(exp_path=EXP_PATH, n_val=n_val, model=model_torch)\n",
    "\n",
    "calculate_metrics(exp_path=EXP_PATH, n_val=n_val, metrics_dict=metrics_dict)"
   ]
  },
  {
   "cell_type": "markdown",
   "metadata": {},
   "source": [
    "### val 3"
   ]
  },
  {
   "cell_type": "code",
   "execution_count": null,
   "metadata": {
    "collapsed": true
   },
   "outputs": [],
   "source": [
    "n_val = 3\n",
    "VAL_PATH = os.path.join(EXP_PATH, f'experiment_{n_val}')"
   ]
  },
  {
   "cell_type": "code",
   "execution_count": null,
   "metadata": {
    "collapsed": true
   },
   "outputs": [],
   "source": [
    "x_val, y_val = load_val_data(exp_path=EXP_PATH, n_val=n_val)\n",
    "val_data = (x_val, y_val)\n",
    "\n",
    "train_ids = cv_splits[n_val]['train_ids']\n",
    "\n",
    "batch_iter = BatchIter(train_ids=train_ids, load_x=load_x, load_y=load_y,\n",
    "                       batch_size=batch_size)"
   ]
  },
  {
   "cell_type": "code",
   "execution_count": null,
   "metadata": {
    "collapsed": true
   },
   "outputs": [],
   "source": [
    "model = get_UNet(n_channels=n_channels, n_classes=n_classes)\n",
    "model_torch = TorchModel(model=model, loss_fn=loss_fn, metric_fn=metric_fn,\n",
    "                         optim=optim, lr_scheduler=lr_scheduler)\n",
    "\n",
    "history = model_torch.fit_generator(\n",
    "    batch_iter.flow(), epochs=epochs, val_data=val_data,\n",
    "    steps_per_epoch=steps_per_epoch, verbose=True\n",
    ")\n",
    "\n",
    "dump_json(history, os.path.join(VAL_PATH, 'history.json'))\n",
    "\n",
    "model_filename = os.path.join(VAL_PATH, 'model.pt')\n",
    "torch.save(model_torch.model, model_filename)\n",
    "\n",
    "make_predictions(exp_path=EXP_PATH, n_val=n_val, model=model_torch)\n",
    "\n",
    "calculate_metrics(exp_path=EXP_PATH, n_val=n_val, metrics_dict=metrics_dict)"
   ]
  },
  {
   "cell_type": "markdown",
   "metadata": {},
   "source": [
    "### val 4"
   ]
  },
  {
   "cell_type": "code",
   "execution_count": null,
   "metadata": {
    "collapsed": true
   },
   "outputs": [],
   "source": [
    "n_val = 4\n",
    "VAL_PATH = os.path.join(EXP_PATH, f'experiment_{n_val}')"
   ]
  },
  {
   "cell_type": "code",
   "execution_count": null,
   "metadata": {
    "collapsed": true
   },
   "outputs": [],
   "source": [
    "x_val, y_val = load_val_data(exp_path=EXP_PATH, n_val=n_val)\n",
    "val_data = (x_val, y_val)\n",
    "\n",
    "train_ids = cv_splits[n_val]['train_ids']\n",
    "\n",
    "batch_iter = BatchIter(train_ids=train_ids, load_x=load_x, load_y=load_y,\n",
    "                       batch_size=batch_size)"
   ]
  },
  {
   "cell_type": "code",
   "execution_count": null,
   "metadata": {
    "collapsed": true
   },
   "outputs": [],
   "source": [
    "model = get_UNet(n_channels=n_channels, n_classes=n_classes)\n",
    "model_torch = TorchModel(model=model, loss_fn=loss_fn, metric_fn=metric_fn,\n",
    "                         optim=optim, lr_scheduler=lr_scheduler)\n",
    "\n",
    "history = model_torch.fit_generator(\n",
    "    batch_iter.flow(), epochs=epochs, val_data=val_data,\n",
    "    steps_per_epoch=steps_per_epoch, verbose=True\n",
    ")\n",
    "\n",
    "dump_json(history, os.path.join(VAL_PATH, 'history.json'))\n",
    "\n",
    "model_filename = os.path.join(VAL_PATH, 'model.pt')\n",
    "torch.save(model_torch.model, model_filename)\n",
    "\n",
    "make_predictions(exp_path=EXP_PATH, n_val=n_val, model=model_torch)\n",
    "\n",
    "calculate_metrics(exp_path=EXP_PATH, n_val=n_val, metrics_dict=metrics_dict)"
   ]
  },
  {
   "cell_type": "markdown",
   "metadata": {},
   "source": [
    "temporary results"
   ]
  },
  {
   "cell_type": "code",
   "execution_count": 5,
   "metadata": {
    "collapsed": true
   },
   "outputs": [],
   "source": [
    "from saltsegm.experiment import get_experiment_result"
   ]
  },
  {
   "cell_type": "code",
   "execution_count": 6,
   "metadata": {},
   "outputs": [
    {
     "data": {
      "text/plain": [
       "0.7980003825141514"
      ]
     },
     "execution_count": 6,
     "metadata": {},
     "output_type": "execute_result"
    }
   ],
   "source": [
    "get_experiment_result(exp_path=EXP_PATH, n_splits=n_splits, metric_name='dice_score')"
   ]
  },
  {
   "cell_type": "code",
   "execution_count": 7,
   "metadata": {},
   "outputs": [
    {
     "data": {
      "text/plain": [
       "0.7275803757190253"
      ]
     },
     "execution_count": 7,
     "metadata": {},
     "output_type": "execute_result"
    }
   ],
   "source": [
    "get_experiment_result(exp_path=EXP_PATH, n_splits=n_splits, metric_name='main_metric')"
   ]
  },
  {
   "cell_type": "code",
   "execution_count": null,
   "metadata": {
    "collapsed": true
   },
   "outputs": [],
   "source": []
  }
 ],
 "metadata": {
  "kernelspec": {
   "display_name": "Python 3",
   "language": "python",
   "name": "python3"
  },
  "language_info": {
   "codemirror_mode": {
    "name": "ipython",
    "version": 3
   },
   "file_extension": ".py",
   "mimetype": "text/x-python",
   "name": "python",
   "nbconvert_exporter": "python",
   "pygments_lexer": "ipython3",
   "version": "3.6.3"
  }
 },
 "nbformat": 4,
 "nbformat_minor": 2
}

{
 "cells": [
  {
   "cell_type": "markdown",
   "metadata": {},
   "source": [
    "misc imports"
   ]
  },
  {
   "cell_type": "code",
   "execution_count": 1,
   "metadata": {
    "collapsed": true
   },
   "outputs": [],
   "source": [
    "import warnings\n",
    "warnings.filterwarnings('ignore')"
   ]
  },
  {
   "cell_type": "code",
   "execution_count": 2,
   "metadata": {
    "collapsed": true
   },
   "outputs": [],
   "source": [
    "import os\n",
    "from functools import partial\n",
    "\n",
    "import numpy as np\n",
    "import pandas as pd\n",
    "from tqdm import tqdm\n",
    "\n",
    "import matplotlib.pyplot as plt\n",
    "%matplotlib inline"
   ]
  },
  {
   "cell_type": "markdown",
   "metadata": {},
   "source": [
    "# Config"
   ]
  },
  {
   "cell_type": "code",
   "execution_count": 3,
   "metadata": {
    "collapsed": true
   },
   "outputs": [],
   "source": [
    "import torch\n",
    "import torch.nn as nn\n",
    "\n",
    "from saltsegm.utils import ratio2groups\n",
    "from saltsegm.torch_models.unet import get_UNet\n",
    "from saltsegm.metrics import dice_score\n",
    "from saltsegm.dataset import Dataset\n",
    "from saltsegm.cross_validation import get_cv_111"
   ]
  },
  {
   "cell_type": "code",
   "execution_count": 4,
   "metadata": {
    "collapsed": true
   },
   "outputs": [],
   "source": [
    "DATA_PATH = '/cobrain/groups/ml_group/data/dustpelt/salt_prep/train/'\n",
    "EXP_PATH = '/cobrain/groups/ml_group/experiments/dustpelt/salt_segm/unet_baseline/'\n",
    "\n",
    "modalities = ['image-128']\n",
    "target = 'target-128'\n",
    "n_channels = len(modalities)\n",
    "n_classes = 1\n",
    "\n",
    "ds = Dataset(data_path = DATA_PATH, modalities=modalities, target=target)\n",
    "\n",
    "# ================================================================================\n",
    "\n",
    "n_splits = 5\n",
    "val_size = 100\n",
    "\n",
    "batch_size = 32\n",
    "epochs = 50\n",
    "steps_per_epoch = 100\n",
    "\n",
    "lr_init = 1e-2\n",
    "patience = 5\n",
    "lr_factor = 0.3\n",
    "\n",
    "optim = partial(torch.optim.Adam, lr=lr_init)\n",
    "\n",
    "lr_scheduler = partial(torch.optim.lr_scheduler.ReduceLROnPlateau,\n",
    "                       factor=lr_factor, patience=patience, verbose=True)\n",
    "\n",
    "# ================================================================================\n",
    "\n",
    "random_state = 42\n",
    "\n",
    "ratio = ds.metadata['target_ratio'].values\n",
    "groups = ratio2groups(ratio)\n",
    "\n",
    "cv_splits = get_cv_111(ds.ids, n_splits=n_splits, val_size=val_size,\n",
    "                       groups=groups, random_state=random_state)\n",
    "\n",
    "# ================================================================================\n",
    "\n",
    "\n",
    "load_x = ds.load_x\n",
    "load_y = ds.load_y\n",
    "\n",
    "metric_fn = dice_score\n",
    "metrics_dict = {'dice_score': dice_score}\n",
    "\n",
    "loss_fn = nn.BCEWithLogitsLoss()"
   ]
  },
  {
   "cell_type": "markdown",
   "metadata": {},
   "source": [
    "## Build experiment"
   ]
  },
  {
   "cell_type": "code",
   "execution_count": 5,
   "metadata": {
    "collapsed": true
   },
   "outputs": [],
   "source": [
    "from saltsegm.experiment import generate_experiment\n",
    "\n",
    "# generate_experiment(exp_path=EXP_PATH, cv_splits=cv_splits, dataset=ds)"
   ]
  },
  {
   "cell_type": "markdown",
   "metadata": {},
   "source": [
    "# Carry on experiment"
   ]
  },
  {
   "cell_type": "code",
   "execution_count": 6,
   "metadata": {
    "collapsed": true
   },
   "outputs": [],
   "source": [
    "from saltsegm.experiment import load_experiment_data, make_predictions, calculate_metrics\n",
    "from saltsegm.batch_iter import BatchIter\n",
    "from saltsegm.torch_models.model import TorchModel"
   ]
  },
  {
   "cell_type": "markdown",
   "metadata": {},
   "source": [
    "### val 0"
   ]
  },
  {
   "cell_type": "code",
   "execution_count": 7,
   "metadata": {
    "collapsed": true
   },
   "outputs": [],
   "source": [
    "n_val = 0\n",
    "VAL_PATH = os.path.join(EXP_PATH, f'experiment_{n_val}')"
   ]
  },
  {
   "cell_type": "code",
   "execution_count": 8,
   "metadata": {
    "collapsed": true
   },
   "outputs": [],
   "source": [
    "x_train, y_train, x_val, y_val, x_test, y_test = load_experiment_data(exp_path=EXP_PATH, n_val=n_val)\n",
    "val_data = (x_val, y_val)\n",
    "\n",
    "train_ids = cv_splits[n_val]['train_ids']\n",
    "\n",
    "batch_iter = BatchIter(train_ids=train_ids, load_x=load_x, load_y=load_y,\n",
    "                       batch_size=batch_size)"
   ]
  },
  {
   "cell_type": "code",
   "execution_count": 9,
   "metadata": {
    "scrolled": true
   },
   "outputs": [
    {
     "name": "stderr",
     "output_type": "stream",
     "text": [
      "epoch 1/50: 101it [00:36,  2.66it/s, val_loss=0.598502, val_metric=0.353]                         \n",
      "epoch 2/50: 101it [00:35,  2.62it/s, val_loss=0.57563883, val_metric=0.37]                         \n",
      "epoch 3/50: 101it [00:35,  2.61it/s, val_loss=0.3677874, val_metric=0.591]                         \n",
      "epoch 4/50: 101it [00:35,  2.65it/s, val_loss=0.461218, val_metric=0.473]                         \n",
      "epoch 5/50: 101it [00:35,  2.64it/s, val_loss=0.4069781, val_metric=0.501]                         \n",
      "epoch 6/50: 101it [00:35,  2.60it/s, val_loss=0.41882268, val_metric=0.498]                         \n",
      "epoch 7/50: 101it [00:35,  2.59it/s, val_loss=0.3614318, val_metric=0.601]                         \n",
      "epoch 8/50: 101it [00:35,  2.61it/s, val_loss=0.4754977, val_metric=0.584]                         \n",
      "epoch 9/50: 101it [00:35,  2.62it/s, val_loss=0.384659, val_metric=0.552]                         \n",
      "epoch 10/50: 101it [00:35,  2.66it/s, val_loss=0.25505042, val_metric=0.658]                         \n",
      "epoch 11/50: 101it [00:35,  2.65it/s, val_loss=0.23210323, val_metric=0.66]                         \n",
      "epoch 12/50: 101it [00:35,  2.63it/s, val_loss=0.24086519, val_metric=0.676]                         \n",
      "epoch 13/50: 101it [00:35,  2.62it/s, val_loss=0.24317743, val_metric=0.677]                         \n",
      "epoch 14/50: 101it [00:35,  2.64it/s, val_loss=0.31895378, val_metric=0.605]                         \n",
      "epoch 15/50: 101it [00:35,  2.62it/s, val_loss=0.21225417, val_metric=0.669]                         \n",
      "epoch 16/50: 101it [00:35,  2.60it/s, val_loss=0.21535416, val_metric=0.678]                         \n",
      "epoch 17/50: 101it [00:35,  2.62it/s, val_loss=0.19806866, val_metric=0.697]                         \n",
      "epoch 18/50: 101it [00:35,  2.60it/s, val_loss=0.20508699, val_metric=0.703]                         \n",
      "epoch 19/50: 101it [00:35,  2.61it/s, val_loss=0.1961364, val_metric=0.74]                         \n",
      "epoch 20/50: 101it [00:35,  2.65it/s, val_loss=0.20228624, val_metric=0.704]                         \n",
      "epoch 21/50: 101it [00:35,  2.63it/s, val_loss=0.21440634, val_metric=0.72]                         \n",
      "epoch 22/50: 101it [00:35,  2.62it/s, val_loss=0.19829768, val_metric=0.726]                         \n",
      "epoch 23/50: 101it [00:35,  2.65it/s, val_loss=0.17966732, val_metric=0.762]                         \n",
      "epoch 24/50: 101it [00:35,  2.63it/s, val_loss=0.2184759, val_metric=0.728]                         \n",
      "epoch 25/50: 101it [00:35,  2.63it/s, val_loss=0.22073074, val_metric=0.757]                         \n",
      "epoch 26/50: 101it [00:35,  2.61it/s, val_loss=0.16720247, val_metric=0.753]                         \n",
      "epoch 27/50: 101it [00:35,  2.64it/s, val_loss=0.25180942, val_metric=0.713]                         \n",
      "epoch 28/50: 101it [00:35,  2.63it/s, val_loss=0.4269714, val_metric=0.534]                         \n",
      "epoch 29/50: 101it [00:35,  2.62it/s, val_loss=0.16398738, val_metric=0.77]                         \n",
      "epoch 30/50: 101it [00:35,  2.65it/s, val_loss=0.19063425, val_metric=0.735]                         \n",
      "epoch 31/50: 101it [00:35,  2.63it/s, val_loss=0.19556884, val_metric=0.767]                         \n",
      "epoch 32/50: 101it [00:35,  2.65it/s, val_loss=0.17451715, val_metric=0.765]                         \n",
      "epoch 33/50: 101it [00:35,  2.62it/s, val_loss=0.17661266, val_metric=0.749]                         \n",
      "epoch 34/50: 101it [00:35,  2.64it/s, val_loss=0.17600511, val_metric=0.748]                         \n",
      "epoch 35/50: 101it [00:35,  2.61it/s, val_loss=0.21632844, val_metric=0.727]                         \n",
      "epoch 36/50:   0%|          | 0/100 [00:00<?, ?it/s]"
     ]
    },
    {
     "name": "stdout",
     "output_type": "stream",
     "text": [
      "Epoch    34: reducing learning rate of group 0 to 3.0000e-03.\n"
     ]
    },
    {
     "name": "stderr",
     "output_type": "stream",
     "text": [
      "epoch 36/50: 101it [00:35,  2.62it/s, val_loss=0.18856698, val_metric=0.771]                         \n",
      "epoch 37/50: 101it [00:35,  2.59it/s, val_loss=0.1457588, val_metric=0.773]                         \n",
      "epoch 38/50: 101it [00:35,  2.66it/s, val_loss=0.15731198, val_metric=0.781]                         \n",
      "epoch 39/50: 101it [00:35,  2.62it/s, val_loss=0.16010068, val_metric=0.735]                         \n",
      "epoch 40/50: 101it [00:35,  2.63it/s, val_loss=0.20277686, val_metric=0.775]                         \n",
      "epoch 41/50: 101it [00:35,  2.63it/s, val_loss=0.15700138, val_metric=0.785]                         \n",
      "epoch 42/50: 101it [00:35,  2.62it/s, val_loss=0.16711503, val_metric=0.78]                         \n",
      "epoch 43/50: 101it [00:35,  2.67it/s, val_loss=0.16938014, val_metric=0.783]                         \n",
      "epoch 44/50:   0%|          | 0/100 [00:00<?, ?it/s]"
     ]
    },
    {
     "name": "stdout",
     "output_type": "stream",
     "text": [
      "Epoch    42: reducing learning rate of group 0 to 9.0000e-04.\n"
     ]
    },
    {
     "name": "stderr",
     "output_type": "stream",
     "text": [
      "epoch 44/50: 101it [00:35,  2.61it/s, val_loss=0.15901853, val_metric=0.758]                         \n",
      "epoch 45/50: 101it [00:35,  2.59it/s, val_loss=0.17106569, val_metric=0.766]                         \n",
      "epoch 46/50: 101it [00:35,  2.64it/s, val_loss=0.16817418, val_metric=0.764]                         \n",
      "epoch 47/50: 101it [00:35,  2.64it/s, val_loss=0.15852167, val_metric=0.772]                         \n",
      "epoch 48/50: 101it [00:35,  2.65it/s, val_loss=0.16429971, val_metric=0.758]                         \n",
      "epoch 49/50: 101it [00:35,  2.61it/s, val_loss=0.16388805, val_metric=0.775]                         \n",
      "epoch 50/50:   0%|          | 0/100 [00:00<?, ?it/s]"
     ]
    },
    {
     "name": "stdout",
     "output_type": "stream",
     "text": [
      "Epoch    48: reducing learning rate of group 0 to 2.7000e-04.\n"
     ]
    },
    {
     "name": "stderr",
     "output_type": "stream",
     "text": [
      "epoch 50/50: 101it [00:35,  2.63it/s, val_loss=0.16600184, val_metric=0.774]                         \n"
     ]
    }
   ],
   "source": [
    "model = get_UNet(n_channels=n_channels, n_classes=n_classes)\n",
    "model_torch = TorchModel(model=model, loss_fn=loss_fn, metric_fn=metric_fn,\n",
    "                         optim=optim, lr_scheduler=lr_scheduler)\n",
    "\n",
    "history = model_torch.fit_generator(\n",
    "    batch_iter.flow(), epochs=epochs, val_data=val_data,\n",
    "    steps_per_epoch=steps_per_epoch, verbose=True\n",
    ")\n",
    "\n",
    "model_filename = os.path.join(VAL_PATH, 'model.pt')\n",
    "torch.save(model_torch.model, model_filename)\n",
    "\n",
    "make_predictions(exp_path=EXP_PATH, n_val=n_val, model=model_torch)\n",
    "\n",
    "calculate_metrics(exp_path=EXP_PATH, n_val=n_val, metrics_dict=metrics_dict)"
   ]
  },
  {
   "cell_type": "markdown",
   "metadata": {},
   "source": [
    "### val 1"
   ]
  },
  {
   "cell_type": "code",
   "execution_count": 10,
   "metadata": {
    "collapsed": true
   },
   "outputs": [],
   "source": [
    "n_val = 1\n",
    "VAL_PATH = os.path.join(EXP_PATH, f'experiment_{n_val}')"
   ]
  },
  {
   "cell_type": "code",
   "execution_count": null,
   "metadata": {
    "collapsed": true
   },
   "outputs": [],
   "source": [
    "x_train, y_train, x_val, y_val, x_test, y_test = load_experiment_data(exp_path=EXP_PATH, n_val=n_val)\n",
    "val_data = (x_val, y_val)\n",
    "\n",
    "train_ids = cv_splits[n_val]['train_ids']\n",
    "\n",
    "batch_iter = BatchIter(train_ids=train_ids, load_x=load_x, load_y=load_y,\n",
    "                       batch_size=batch_size)"
   ]
  },
  {
   "cell_type": "code",
   "execution_count": null,
   "metadata": {
    "collapsed": true
   },
   "outputs": [],
   "source": [
    "model = get_UNet(n_channels=n_channels, n_classes=n_classes)\n",
    "model_torch = TorchModel(model=model, loss_fn=loss_fn, metric_fn=metric_fn,\n",
    "                         optim=optim, lr_scheduler=lr_scheduler)\n",
    "\n",
    "history = model_torch.fit_generator(\n",
    "    batch_iter.flow(), epochs=epochs, val_data=val_data,\n",
    "    steps_per_epoch=steps_per_epoch, verbose=True\n",
    ")\n",
    "\n",
    "model_filename = os.path.join(VAL_PATH, 'model.pt')\n",
    "torch.save(model_torch.model, model_filename)\n",
    "\n",
    "make_predictions(exp_path=EXP_PATH, n_val=n_val, model=model_torch)\n",
    "\n",
    "calculate_metrics(exp_path=EXP_PATH, n_val=n_val, metrics_dict=metrics_dict)"
   ]
  },
  {
   "cell_type": "markdown",
   "metadata": {},
   "source": [
    "### val 2"
   ]
  },
  {
   "cell_type": "code",
   "execution_count": null,
   "metadata": {
    "collapsed": true
   },
   "outputs": [],
   "source": [
    "n_val = 2\n",
    "VAL_PATH = os.path.join(EXP_PATH, f'experiment_{n_val}')"
   ]
  },
  {
   "cell_type": "code",
   "execution_count": null,
   "metadata": {
    "collapsed": true
   },
   "outputs": [],
   "source": [
    "x_train, y_train, x_val, y_val, x_test, y_test = load_experiment_data(exp_path=EXP_PATH, n_val=n_val)\n",
    "val_data = (x_val, y_val)\n",
    "\n",
    "train_ids = cv_splits[n_val]['train_ids']\n",
    "\n",
    "batch_iter = BatchIter(train_ids=train_ids, load_x=load_x, load_y=load_y,\n",
    "                       batch_size=batch_size)"
   ]
  },
  {
   "cell_type": "code",
   "execution_count": null,
   "metadata": {
    "collapsed": true
   },
   "outputs": [],
   "source": [
    "model = get_UNet(n_channels=n_channels, n_classes=n_classes)\n",
    "model_torch = TorchModel(model=model, loss_fn=loss_fn, metric_fn=metric_fn,\n",
    "                         optim=optim, lr_scheduler=lr_scheduler)\n",
    "\n",
    "history = model_torch.fit_generator(\n",
    "    batch_iter.flow(), epochs=epochs, val_data=val_data,\n",
    "    steps_per_epoch=steps_per_epoch, verbose=True\n",
    ")\n",
    "\n",
    "model_filename = os.path.join(VAL_PATH, 'model.pt')\n",
    "torch.save(model_torch.model, model_filename)\n",
    "\n",
    "make_predictions(exp_path=EXP_PATH, n_val=n_val, model=model_torch)\n",
    "\n",
    "calculate_metrics(exp_path=EXP_PATH, n_val=n_val, metrics_dict=metrics_dict)"
   ]
  },
  {
   "cell_type": "markdown",
   "metadata": {},
   "source": [
    "### val 3"
   ]
  },
  {
   "cell_type": "code",
   "execution_count": null,
   "metadata": {
    "collapsed": true
   },
   "outputs": [],
   "source": [
    "n_val = 3\n",
    "VAL_PATH = os.path.join(EXP_PATH, f'experiment_{n_val}')"
   ]
  },
  {
   "cell_type": "code",
   "execution_count": null,
   "metadata": {
    "collapsed": true
   },
   "outputs": [],
   "source": [
    "x_train, y_train, x_val, y_val, x_test, y_test = load_experiment_data(exp_path=EXP_PATH, n_val=n_val)\n",
    "val_data = (x_val, y_val)\n",
    "\n",
    "train_ids = cv_splits[n_val]['train_ids']\n",
    "\n",
    "batch_iter = BatchIter(train_ids=train_ids, load_x=load_x, load_y=load_y,\n",
    "                       batch_size=batch_size)"
   ]
  },
  {
   "cell_type": "code",
   "execution_count": null,
   "metadata": {
    "collapsed": true
   },
   "outputs": [],
   "source": [
    "model = get_UNet(n_channels=n_channels, n_classes=n_classes)\n",
    "model_torch = TorchModel(model=model, loss_fn=loss_fn, metric_fn=metric_fn,\n",
    "                         optim=optim, lr_scheduler=lr_scheduler)\n",
    "\n",
    "history = model_torch.fit_generator(\n",
    "    batch_iter.flow(), epochs=epochs, val_data=val_data,\n",
    "    steps_per_epoch=steps_per_epoch, verbose=True\n",
    ")\n",
    "\n",
    "model_filename = os.path.join(VAL_PATH, 'model.pt')\n",
    "torch.save(model_torch.model, model_filename)\n",
    "\n",
    "make_predictions(exp_path=EXP_PATH, n_val=n_val, model=model_torch)\n",
    "\n",
    "calculate_metrics(exp_path=EXP_PATH, n_val=n_val, metrics_dict=metrics_dict)"
   ]
  },
  {
   "cell_type": "markdown",
   "metadata": {},
   "source": [
    "### val 4"
   ]
  },
  {
   "cell_type": "code",
   "execution_count": null,
   "metadata": {
    "collapsed": true
   },
   "outputs": [],
   "source": [
    "n_val = 4\n",
    "VAL_PATH = os.path.join(EXP_PATH, f'experiment_{n_val}')"
   ]
  },
  {
   "cell_type": "code",
   "execution_count": null,
   "metadata": {
    "collapsed": true
   },
   "outputs": [],
   "source": [
    "x_train, y_train, x_val, y_val, x_test, y_test = load_experiment_data(exp_path=EXP_PATH, n_val=n_val)\n",
    "val_data = (x_val, y_val)\n",
    "\n",
    "train_ids = cv_splits[n_val]['train_ids']\n",
    "\n",
    "batch_iter = BatchIter(train_ids=train_ids, load_x=load_x, load_y=load_y,\n",
    "                       batch_size=batch_size)"
   ]
  },
  {
   "cell_type": "code",
   "execution_count": null,
   "metadata": {
    "collapsed": true
   },
   "outputs": [],
   "source": [
    "model = get_UNet(n_channels=n_channels, n_classes=n_classes)\n",
    "model_torch = TorchModel(model=model, loss_fn=loss_fn, metric_fn=metric_fn,\n",
    "                         optim=optim, lr_scheduler=lr_scheduler)\n",
    "\n",
    "history = model_torch.fit_generator(\n",
    "    batch_iter.flow(), epochs=epochs, val_data=val_data,\n",
    "    steps_per_epoch=steps_per_epoch, verbose=True\n",
    ")\n",
    "\n",
    "model_filename = os.path.join(VAL_PATH, 'model.pt')\n",
    "torch.save(model_torch.model, model_filename)\n",
    "\n",
    "make_predictions(exp_path=EXP_PATH, n_val=n_val, model=model_torch)\n",
    "\n",
    "calculate_metrics(exp_path=EXP_PATH, n_val=n_val, metrics_dict=metrics_dict)"
   ]
  },
  {
   "cell_type": "markdown",
   "metadata": {},
   "source": [
    "temporary results"
   ]
  },
  {
   "cell_type": "code",
   "execution_count": 24,
   "metadata": {
    "collapsed": true
   },
   "outputs": [],
   "source": [
    "from saltsegm.utils import load_json\n",
    "\n",
    "def get_experiment_result(exp_path, n_splits, metric_name):\n",
    "    val_results = []\n",
    "    for i in range(n_splits):\n",
    "        metric_path = os.path.join(EXP_PATH, f'experiment_{i}/test_metrics/{metric_name}.json')\n",
    "        results_dict = load_json(metric_path)\n",
    "        \n",
    "        val_mean = np.mean(list(results_dict.values()))\n",
    "        val_results.append(val_mean)\n",
    "        \n",
    "    return np.mean(val_results)"
   ]
  },
  {
   "cell_type": "code",
   "execution_count": 25,
   "metadata": {},
   "outputs": [
    {
     "data": {
      "text/plain": [
       "0.7828686297599752"
      ]
     },
     "execution_count": 25,
     "metadata": {},
     "output_type": "execute_result"
    }
   ],
   "source": [
    "get_experiment_result(exp_path=EXP_PATH, n_splits=n_splits, metric_name='dice_score')"
   ]
  },
  {
   "cell_type": "code",
   "execution_count": null,
   "metadata": {
    "collapsed": true
   },
   "outputs": [],
   "source": []
  }
 ],
 "metadata": {
  "kernelspec": {
   "display_name": "Python 3",
   "language": "python",
   "name": "python3"
  },
  "language_info": {
   "codemirror_mode": {
    "name": "ipython",
    "version": 3
   },
   "file_extension": ".py",
   "mimetype": "text/x-python",
   "name": "python",
   "nbconvert_exporter": "python",
   "pygments_lexer": "ipython3",
   "version": "3.6.3"
  }
 },
 "nbformat": 4,
 "nbformat_minor": 2
}
